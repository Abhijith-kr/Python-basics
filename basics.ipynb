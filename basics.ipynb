{
 "cells": [
  {
   "cell_type": "code",
   "execution_count": 7,
   "id": "042ed08f",
   "metadata": {},
   "outputs": [],
   "source": [
    "a=10\n",
    "b=10\n",
    "c=a+b\n",
    "d=a*b\n",
    "h=100/c\n"
   ]
  },
  {
   "cell_type": "code",
   "execution_count": 8,
   "id": "5affbc1c",
   "metadata": {},
   "outputs": [
    {
     "data": {
      "text/plain": [
       "20"
      ]
     },
     "execution_count": 8,
     "metadata": {},
     "output_type": "execute_result"
    }
   ],
   "source": [
    "c"
   ]
  },
  {
   "cell_type": "code",
   "execution_count": 9,
   "id": "c5ad5d1f",
   "metadata": {},
   "outputs": [
    {
     "data": {
      "text/plain": [
       "10"
      ]
     },
     "execution_count": 9,
     "metadata": {},
     "output_type": "execute_result"
    }
   ],
   "source": [
    "b"
   ]
  },
  {
   "cell_type": "code",
   "execution_count": 10,
   "id": "10474b6a",
   "metadata": {},
   "outputs": [
    {
     "data": {
      "text/plain": [
       "100"
      ]
     },
     "execution_count": 10,
     "metadata": {},
     "output_type": "execute_result"
    }
   ],
   "source": [
    "d\n",
    "\n"
   ]
  },
  {
   "cell_type": "code",
   "execution_count": null,
   "id": "d349ea67",
   "metadata": {},
   "outputs": [],
   "source": []
  },
  {
   "cell_type": "code",
   "execution_count": 11,
   "id": "4a71828c",
   "metadata": {},
   "outputs": [
    {
     "data": {
      "text/plain": [
       "5.0"
      ]
     },
     "execution_count": 11,
     "metadata": {},
     "output_type": "execute_result"
    }
   ],
   "source": [
    "h"
   ]
  },
  {
   "cell_type": "code",
   "execution_count": 18,
   "id": "a93bd188",
   "metadata": {},
   "outputs": [
    {
     "name": "stdout",
     "output_type": "stream",
     "text": [
      "Enter your first num = 5\n",
      "Enter your second num = 8\n",
      "<class 'int'>\n",
      "<class 'int'>\n"
     ]
    },
    {
     "data": {
      "text/plain": [
       "13"
      ]
     },
     "execution_count": 18,
     "metadata": {},
     "output_type": "execute_result"
    }
   ],
   "source": [
    "i=int(input('Enter your first num = '))\n",
    "j=int(input(\"Enter your second num = \"))\n",
    "print (type(i))\n",
    "print (type(j))\n",
    "\n",
    "k=i+j\n",
    "k"
   ]
  },
  {
   "cell_type": "code",
   "execution_count": 1,
   "id": "14cdcf93",
   "metadata": {},
   "outputs": [
    {
     "name": "stdout",
     "output_type": "stream",
     "text": [
      "2\n"
     ]
    }
   ],
   "source": [
    "n=2\n",
    "if n>0:\n",
    "    print (n)\n",
    "else:\n",
    "    print (\"invalid statement\")"
   ]
  },
  {
   "cell_type": "code",
   "execution_count": 8,
   "id": "d27541c0",
   "metadata": {},
   "outputs": [
    {
     "ename": "SyntaxError",
     "evalue": "invalid syntax (3987535333.py, line 6)",
     "output_type": "error",
     "traceback": [
      "\u001b[1;36m  Input \u001b[1;32mIn [8]\u001b[1;36m\u001b[0m\n\u001b[1;33m    elif n=15:\u001b[0m\n\u001b[1;37m          ^\u001b[0m\n\u001b[1;31mSyntaxError\u001b[0m\u001b[1;31m:\u001b[0m invalid syntax\n"
     ]
    }
   ],
   "source": [
    "n=15\n",
    "if n>16:\n",
    "    print (n)\n",
    "elif n<2:\n",
    "    print(n+1)\n",
    "elif n=15:\n",
    "    print(n+3)\n",
    "else:\n",
    "    print(\"invalid\")    \n",
    "        "
   ]
  },
  {
   "cell_type": "code",
   "execution_count": null,
   "id": "bec99519",
   "metadata": {},
   "outputs": [],
   "source": []
  },
  {
   "cell_type": "code",
   "execution_count": 10,
   "id": "d2e83a85",
   "metadata": {},
   "outputs": [
    {
     "ename": "SyntaxError",
     "evalue": "invalid syntax (3904646979.py, line 6)",
     "output_type": "error",
     "traceback": [
      "\u001b[1;36m  Input \u001b[1;32mIn [10]\u001b[1;36m\u001b[0m\n\u001b[1;33m    elif n=15:\u001b[0m\n\u001b[1;37m          ^\u001b[0m\n\u001b[1;31mSyntaxError\u001b[0m\u001b[1;31m:\u001b[0m invalid syntax\n"
     ]
    }
   ],
   "source": [
    "n=15\n",
    "if n>16:\n",
    "    print (n)\n",
    "elif n<2:\n",
    "    print(n+1)\n",
    "elif n=15:\n",
    "    print(n+3)\n",
    "else:\n",
    "    print(\"invalid\")"
   ]
  },
  {
   "cell_type": "code",
   "execution_count": null,
   "id": "6a0c0146",
   "metadata": {},
   "outputs": [],
   "source": []
  },
  {
   "cell_type": "code",
   "execution_count": 18,
   "id": "95f29066",
   "metadata": {},
   "outputs": [
    {
     "name": "stdout",
     "output_type": "stream",
     "text": [
      "18\n"
     ]
    }
   ],
   "source": [
    "n=15\n",
    "if n>16:\n",
    "    print (n)\n",
    "elif n<2:\n",
    "    print(n+1)\n",
    "elif n==15:\n",
    "    print(n+3)\n",
    "else:\n",
    "    print(\"invalid\")"
   ]
  },
  {
   "cell_type": "code",
   "execution_count": 16,
   "id": "cd12fd79",
   "metadata": {},
   "outputs": [
    {
     "ename": "SyntaxError",
     "evalue": "invalid syntax (4160402013.py, line 2)",
     "output_type": "error",
     "traceback": [
      "\u001b[1;36m  Input \u001b[1;32mIn [16]\u001b[1;36m\u001b[0m\n\u001b[1;33m    if (num%2) == 0:\u001b[0m\n\u001b[1;37m                   ^\u001b[0m\n\u001b[1;31mSyntaxError\u001b[0m\u001b[1;31m:\u001b[0m invalid syntax\n"
     ]
    }
   ],
   "source": [
    "num = int(input(\"enter a number:\")\n",
    "if (num%2) == 0:\n",
    "          print (\"even number\")\n",
    "else:\n",
    "          print (\"odd number\")"
   ]
  },
  {
   "cell_type": "code",
   "execution_count": 17,
   "id": "4dfea2e8",
   "metadata": {},
   "outputs": [
    {
     "name": "stdout",
     "output_type": "stream",
     "text": [
      "enter a number:20\n",
      "even number\n"
     ]
    }
   ],
   "source": [
    "num = int(input(\"enter a number:\"))\n",
    "if (num%2) == 0:\n",
    "          print (\"even number\")\n",
    "else:\n",
    "          print (\"odd number\")"
   ]
  },
  {
   "cell_type": "code",
   "execution_count": 21,
   "id": "fa5d4183",
   "metadata": {},
   "outputs": [
    {
     "name": "stdout",
     "output_type": "stream",
     "text": [
      "[1, 2, 3, 'a', 'b', 'c', 'a', 'd']\n",
      "<class 'list'>\n",
      "1\n",
      "3\n",
      "8\n",
      "[1, 2, 3]\n",
      "[3, 'a']\n",
      "d\n",
      "a\n",
      "[1, 5, 3, 'a', 'b', 'c', 'a', 'd']\n",
      "[1, 5, 3, 'a', 'b', 'c', 'a', 'd', 6]\n",
      "[1, 5, 3, 'a', 'b', 'c', 'a', 'd', 6, 'g', 'f', 'i']\n",
      "[1, 7, 5, 3, 'a', 'b', 'c', 'a', 'd', 6, 'g', 'f', 'i']\n",
      "[1, 7, 3, 'a', 'b', 'c', 'a', 'd', 6, 'g', 'f', 'i']\n",
      "[1, 7, 3, 'b', 'c', 'a', 'd', 6, 'g', 'f', 'i']\n",
      "[1, 7, 3, 'b', 'c', 'a', 'd', 6, 'g', 'f']\n",
      "[1, 7, 'b', 'c', 'a', 'd', 6, 'g', 'f']\n"
     ]
    },
    {
     "data": {
      "text/plain": [
       "1"
      ]
     },
     "execution_count": 21,
     "metadata": {},
     "output_type": "execute_result"
    }
   ],
   "source": [
    "a =[1,2,3,'a','b','c','a','d']\n",
    "print (a)\n",
    "print(type(a))\n",
    "print(a[0])\n",
    "print(a[2])\n",
    "print(len(a))\n",
    "print(a[:3])\n",
    "print(a[2:4])\n",
    "print(a[-1])\n",
    "print(a[-2])\n",
    "a[1]=5\n",
    "print(a)\n",
    "a.append(6)\n",
    "print(a)\n",
    "a.extend([\"g\",\"f\",\"i\"])\n",
    "print(a)\n",
    "a.insert(1,7)\n",
    "print(a)\n",
    "del a[2]\n",
    "print(a)\n",
    "a.remove('a')\n",
    "print(a)\n",
    "a.pop()\n",
    "print(a)\n",
    "a.pop(2)\n",
    "print(a)\n",
    "a.count('a')"
   ]
  },
  {
   "cell_type": "code",
   "execution_count": 12,
   "id": "afceb598",
   "metadata": {},
   "outputs": [
    {
     "name": "stdout",
     "output_type": "stream",
     "text": [
      "<class 'list'>\n"
     ]
    }
   ],
   "source": [
    "print(type(a))"
   ]
  },
  {
   "cell_type": "code",
   "execution_count": 24,
   "id": "d4928c2d",
   "metadata": {},
   "outputs": [
    {
     "name": "stdout",
     "output_type": "stream",
     "text": [
      "3\n",
      "4\n"
     ]
    }
   ],
   "source": [
    "a =[1,2,3,'a','b','c','a','d']\n",
    "a.count('a')\n",
    "print(a.index('a'))\n",
    "print(a.index('b'))\n",
    "\n"
   ]
  },
  {
   "cell_type": "code",
   "execution_count": null,
   "id": "5924aef9",
   "metadata": {},
   "outputs": [],
   "source": []
  }
 ],
 "metadata": {
  "kernelspec": {
   "display_name": "Python 3 (ipykernel)",
   "language": "python",
   "name": "python3"
  },
  "language_info": {
   "codemirror_mode": {
    "name": "ipython",
    "version": 3
   },
   "file_extension": ".py",
   "mimetype": "text/x-python",
   "name": "python",
   "nbconvert_exporter": "python",
   "pygments_lexer": "ipython3",
   "version": "3.9.12"
  }
 },
 "nbformat": 4,
 "nbformat_minor": 5
}
