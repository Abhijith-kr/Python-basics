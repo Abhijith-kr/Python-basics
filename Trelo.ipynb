{
 "cells": [
  {
   "cell_type": "code",
   "execution_count": 1,
   "id": "7caff8c7",
   "metadata": {},
   "outputs": [
    {
     "name": "stdout",
     "output_type": "stream",
     "text": [
      "The largest number is 25\n"
     ]
    }
   ],
   "source": [
    "num1=10\n",
    "num2=20\n",
    "num3=25\n",
    "if (num1>=num2)  and (num1>=num3):\n",
    "    largest = num1\n",
    "elif (num2>=num1) and (num2>=num3):\n",
    "    largest = num2\n",
    "else:\n",
    "    largest=num3\n",
    "print(\"The largest number is\", largest)    "
   ]
  },
  {
   "cell_type": "code",
   "execution_count": 3,
   "id": "16bb9782",
   "metadata": {},
   "outputs": [
    {
     "data": {
      "text/plain": [
       "5"
      ]
     },
     "execution_count": 3,
     "metadata": {},
     "output_type": "execute_result"
    }
   ],
   "source": [
    "a=2\n",
    "b=3\n",
    "c=a+b\n",
    "c"
   ]
  },
  {
   "cell_type": "code",
   "execution_count": 5,
   "id": "ec4d67f7",
   "metadata": {},
   "outputs": [
    {
     "ename": "IndentationError",
     "evalue": "expected an indented block (3413083130.py, line 3)",
     "output_type": "error",
     "traceback": [
      "\u001b[1;36m  Input \u001b[1;32mIn [5]\u001b[1;36m\u001b[0m\n\u001b[1;33m    print(\"Positive number\")\u001b[0m\n\u001b[1;37m    ^\u001b[0m\n\u001b[1;31mIndentationError\u001b[0m\u001b[1;31m:\u001b[0m expected an indented block\n"
     ]
    }
   ],
   "source": []
  },
  {
   "cell_type": "code",
   "execution_count": 6,
   "id": "bfe35984",
   "metadata": {},
   "outputs": [
    {
     "name": "stdout",
     "output_type": "stream",
     "text": [
      "Enter a number: 5\n",
      "Positive number\n"
     ]
    }
   ],
   "source": [
    "num = float(input(\"Enter a number: \"))\n",
    "if num > 0:\n",
    "   print(\"Positive number\")\n",
    "elif num == 0:\n",
    "   print(\"Zero\")\n",
    "else:\n",
    "   print(\"Negative number\")"
   ]
  },
  {
   "cell_type": "markdown",
   "id": "03225a47",
   "metadata": {},
   "source": []
  },
  {
   "cell_type": "code",
   "execution_count": 1,
   "id": "a9a4973e",
   "metadata": {},
   "outputs": [
    {
     "name": "stdout",
     "output_type": "stream",
     "text": [
      "Enter marks of the first subject: 80\n",
      "Enter marks of the second subject: 20\n",
      "Enter marks of the third subject: 15\n",
      "Enter marks of the fourth subject: 9\n",
      "Enter marks of the fifth subject: 15\n",
      "Grade: F\n"
     ]
    }
   ],
   "source": [
    "sub1=int(input(\"Enter marks of the first subject: \"))\n",
    "sub2=int(input(\"Enter marks of the second subject: \"))\n",
    "sub3=int(input(\"Enter marks of the third subject: \"))\n",
    "sub4=int(input(\"Enter marks of the fourth subject: \"))\n",
    "sub5=int(input(\"Enter marks of the fifth subject: \"))\n",
    "avg=(sub1+sub2+sub3+sub4+sub4)/5\n",
    "if(avg>=90):\n",
    "    print(\"Grade: A\")\n",
    "elif(avg>=80 and avg<90):\n",
    "    print(\"Grade: B\")\n",
    "elif(avg>=70 and avg<80):\n",
    "    print(\"Grade: C\")\n",
    "elif(avg>=60 and avg<70):\n",
    "    print(\"Grade: D\")\n",
    "else:\n",
    "    print(\"Grade: F\")\n",
    "    "
   ]
  },
  {
   "cell_type": "code",
   "execution_count": 4,
   "id": "3f49d4d8",
   "metadata": {},
   "outputs": [
    {
     "name": "stdout",
     "output_type": "stream",
     "text": [
      "10\n"
     ]
    }
   ],
   "source": [
    "a =[1,2,3,4]\n",
    "total = sum(a)\n",
    "print(total)\n"
   ]
  },
  {
   "cell_type": "code",
   "execution_count": 16,
   "id": "3217a514",
   "metadata": {},
   "outputs": [
    {
     "name": "stdout",
     "output_type": "stream",
     "text": [
      "the list is not empty\n"
     ]
    }
   ],
   "source": [
    "a =[1,2,3,4]\n",
    "max(a)\n",
    "min(a)\n",
    "if a == []:\n",
    "        print(\"The list is empty\")\n",
    "else:\n",
    "    print(\"the list is not empty\")"
   ]
  },
  {
   "cell_type": "code",
   "execution_count": 28,
   "id": "60c64c55",
   "metadata": {},
   "outputs": [
    {
     "name": "stdout",
     "output_type": "stream",
     "text": [
      "[1, 2, 3, 4, 4]\n",
      "[1, 2, 3, 4, 6]\n"
     ]
    }
   ],
   "source": [
    "a =[1,2,3,4]\n",
    "b=a.copy()\n",
    "a.append(4)\n",
    "b.append(6)\n",
    "print(a)\n",
    "print(b)\n"
   ]
  },
  {
   "cell_type": "code",
   "execution_count": 31,
   "id": "8530eb21",
   "metadata": {},
   "outputs": [
    {
     "name": "stdout",
     "output_type": "stream",
     "text": [
      "0\n",
      "1\n"
     ]
    }
   ],
   "source": [
    "a =[1,2,3,4]\n",
    "print(a.index(1))\n",
    "print(a[0])"
   ]
  },
  {
   "cell_type": "code",
   "execution_count": 34,
   "id": "21514c3f",
   "metadata": {},
   "outputs": [
    {
     "name": "stdout",
     "output_type": "stream",
     "text": [
      "odd number\n",
      "even number\n",
      "odd number\n",
      "even number\n"
     ]
    }
   ],
   "source": [
    "a =[1,2,3,4]\n",
    "for num in a:\n",
    "    if (num%2) == 0:\n",
    "          print (\"even number\")\n",
    "    else:\n",
    "          print (\"odd number\")\n",
    "\n",
    "    \n"
   ]
  },
  {
   "cell_type": "code",
   "execution_count": 43,
   "id": "f9ec9e21",
   "metadata": {},
   "outputs": [
    {
     "name": "stdout",
     "output_type": "stream",
     "text": [
      "[1, 2, 3, 4]\n"
     ]
    }
   ],
   "source": [
    "a=[1,2]\n",
    "b=[3,4]\n",
    "c=a+b\n",
    "print(c)\n",
    "\n",
    "\n"
   ]
  },
  {
   "cell_type": "code",
   "execution_count": 44,
   "id": "af37e478",
   "metadata": {},
   "outputs": [
    {
     "name": "stdout",
     "output_type": "stream",
     "text": [
      "[40, 50, 60, 10, 20, 30]\n"
     ]
    }
   ],
   "source": [
    "x = [10, 20, 30]\n",
    "y = [40, 50, 60]\n",
    "x[:0] =y\n",
    "print(x)"
   ]
  },
  {
   "cell_type": "code",
   "execution_count": 45,
   "id": "c6dc5b0f",
   "metadata": {},
   "outputs": [
    {
     "name": "stdout",
     "output_type": "stream",
     "text": [
      "[1, 2, 3, 8, 7, 6]\n"
     ]
    }
   ],
   "source": [
    "a=[1,2,3]\n",
    "a.extend([8,7,6])\n",
    "print(a)"
   ]
  },
  {
   "cell_type": "code",
   "execution_count": 49,
   "id": "11636ada",
   "metadata": {},
   "outputs": [
    {
     "name": "stdout",
     "output_type": "stream",
     "text": [
      "['cow', 'dog', 'monkey']\n"
     ]
    }
   ],
   "source": [
    "a = \"cow dog monkey\"\n",
    "list = a.split()\n",
    "print(list)\n"
   ]
  },
  {
   "cell_type": "code",
   "execution_count": 2,
   "id": "804ae9b9",
   "metadata": {},
   "outputs": [
    {
     "name": "stdout",
     "output_type": "stream",
     "text": [
      "['c', 'o', 'w']\n"
     ]
    }
   ],
   "source": [
    "a = \"cow\"\n",
    "b=list(a)\n",
    "print(b)"
   ]
  },
  {
   "cell_type": "code",
   "execution_count": 50,
   "id": "fd50ba5f",
   "metadata": {},
   "outputs": [
    {
     "name": "stdout",
     "output_type": "stream",
     "text": [
      "[3, 2, 1]\n"
     ]
    }
   ],
   "source": [
    "a=[1,2,3]\n",
    "a.reverse()\n",
    "print(a)"
   ]
  },
  {
   "cell_type": "code",
   "execution_count": 52,
   "id": "aec82da0",
   "metadata": {},
   "outputs": [
    {
     "name": "stdout",
     "output_type": "stream",
     "text": [
      "[22, 32, 100]\n",
      "[100, 32, 22]\n"
     ]
    }
   ],
   "source": [
    "a=[100,22,32]\n",
    "a.sort()\n",
    "print(a)\n",
    "a.reverse()\n",
    "print(a)\n"
   ]
  },
  {
   "cell_type": "code",
   "execution_count": 56,
   "id": "455d6043",
   "metadata": {},
   "outputs": [
    {
     "name": "stdout",
     "output_type": "stream",
     "text": [
      "a b c\n"
     ]
    }
   ],
   "source": [
    "a=['a','b','c']\n",
    "b=' '.join(a)\n",
    "print(b)"
   ]
  },
  {
   "cell_type": "code",
   "execution_count": null,
   "id": "6f559b9e",
   "metadata": {},
   "outputs": [],
   "source": []
  }
 ],
 "metadata": {
  "kernelspec": {
   "display_name": "Python 3 (ipykernel)",
   "language": "python",
   "name": "python3"
  },
  "language_info": {
   "codemirror_mode": {
    "name": "ipython",
    "version": 3
   },
   "file_extension": ".py",
   "mimetype": "text/x-python",
   "name": "python",
   "nbconvert_exporter": "python",
   "pygments_lexer": "ipython3",
   "version": "3.9.12"
  }
 },
 "nbformat": 4,
 "nbformat_minor": 5
}
