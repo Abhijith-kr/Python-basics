{
 "cells": [
  {
   "cell_type": "code",
   "execution_count": 7,
   "id": "6543c908",
   "metadata": {},
   "outputs": [
    {
     "data": {
      "text/plain": [
       "'basi'"
      ]
     },
     "execution_count": 7,
     "metadata": {},
     "output_type": "execute_result"
    }
   ],
   "source": [
    "a={'name':'abhijith','age':24,'name':\"basi\"}\n",
    "a[\"name\"]"
   ]
  },
  {
   "cell_type": "code",
   "execution_count": 8,
   "id": "953235b4",
   "metadata": {},
   "outputs": [
    {
     "data": {
      "text/plain": [
       "'ckm'"
      ]
     },
     "execution_count": 8,
     "metadata": {},
     "output_type": "execute_result"
    }
   ],
   "source": [
    "a={'name':'abhijith','age':24,'name':\"basi\",'add':'ckm'}\n",
    "a['add']"
   ]
  },
  {
   "cell_type": "code",
   "execution_count": 9,
   "id": "78c1aee0",
   "metadata": {},
   "outputs": [
    {
     "data": {
      "text/plain": [
       "24"
      ]
     },
     "execution_count": 9,
     "metadata": {},
     "output_type": "execute_result"
    }
   ],
   "source": [
    "a={'name':'abhijith','age':24,'name':\"basi\",'add':'ckm'}\n",
    "a[\"age\"]"
   ]
  },
  {
   "cell_type": "code",
   "execution_count": 11,
   "id": "d12d052e",
   "metadata": {},
   "outputs": [
    {
     "name": "stdout",
     "output_type": "stream",
     "text": [
      "{'name': 'basi', 'age': 24, 'address': 'ckm'}\n"
     ]
    }
   ],
   "source": [
    "a={'name':'abhijith','age':24,'name':\"basi\",}\n",
    "a['address']='ckm'\n",
    "print(a)"
   ]
  },
  {
   "cell_type": "code",
   "execution_count": 13,
   "id": "023a5819",
   "metadata": {},
   "outputs": [
    {
     "name": "stdout",
     "output_type": "stream",
     "text": [
      "{'name': 'basi', 'age': 24}\n"
     ]
    }
   ],
   "source": [
    "a={'name':'abhijith','name':\"basi\",}\n",
    "a['age']=24\n",
    "print(a)"
   ]
  },
  {
   "cell_type": "code",
   "execution_count": 15,
   "id": "1f51e034",
   "metadata": {},
   "outputs": [
    {
     "name": "stdout",
     "output_type": "stream",
     "text": [
      "{}\n"
     ]
    }
   ],
   "source": [
    "a={'name':'abhijith','name':\"basi\",}\n",
    "del a['name']\n",
    "print(a)"
   ]
  },
  {
   "cell_type": "code",
   "execution_count": 17,
   "id": "5b3e5fef",
   "metadata": {},
   "outputs": [
    {
     "name": "stdout",
     "output_type": "stream",
     "text": [
      "{}\n"
     ]
    }
   ],
   "source": [
    "a={'name':'abhijith','age':24}\n",
    "a.clear()\n",
    "print(a)"
   ]
  },
  {
   "cell_type": "code",
   "execution_count": 21,
   "id": "d3251890",
   "metadata": {},
   "outputs": [
    {
     "name": "stdout",
     "output_type": "stream",
     "text": [
      "{'name': 'basi'}\n"
     ]
    }
   ],
   "source": [
    "a={'age':24,'name':\"basi\",}\n",
    "del a['age']\n",
    "print(a)"
   ]
  },
  {
   "cell_type": "code",
   "execution_count": 26,
   "id": "a9e16062",
   "metadata": {},
   "outputs": [
    {
     "ename": "NameError",
     "evalue": "name 'a' is not defined",
     "output_type": "error",
     "traceback": [
      "\u001b[1;31m---------------------------------------------------------------------------\u001b[0m",
      "\u001b[1;31mNameError\u001b[0m                                 Traceback (most recent call last)",
      "Input \u001b[1;32mIn [26]\u001b[0m, in \u001b[0;36m<cell line: 3>\u001b[1;34m()\u001b[0m\n\u001b[0;32m      1\u001b[0m a\u001b[38;5;241m=\u001b[39m{\u001b[38;5;124m'\u001b[39m\u001b[38;5;124mage\u001b[39m\u001b[38;5;124m'\u001b[39m:\u001b[38;5;241m24\u001b[39m,\u001b[38;5;124m'\u001b[39m\u001b[38;5;124mname\u001b[39m\u001b[38;5;124m'\u001b[39m:\u001b[38;5;124m\"\u001b[39m\u001b[38;5;124mbasi\u001b[39m\u001b[38;5;124m\"\u001b[39m,}\n\u001b[0;32m      2\u001b[0m \u001b[38;5;28;01mdel\u001b[39;00m a\n\u001b[1;32m----> 3\u001b[0m \u001b[38;5;28mprint\u001b[39m(\u001b[43ma\u001b[49m)\n",
      "\u001b[1;31mNameError\u001b[0m: name 'a' is not defined"
     ]
    }
   ],
   "source": [
    "a={'age':24,'name':\"basi\",}\n",
    "del a\n",
    "print(a)"
   ]
  },
  {
   "cell_type": "code",
   "execution_count": null,
   "id": "381b84ef",
   "metadata": {},
   "outputs": [],
   "source": []
  }
 ],
 "metadata": {
  "kernelspec": {
   "display_name": "Python 3 (ipykernel)",
   "language": "python",
   "name": "python3"
  },
  "language_info": {
   "codemirror_mode": {
    "name": "ipython",
    "version": 3
   },
   "file_extension": ".py",
   "mimetype": "text/x-python",
   "name": "python",
   "nbconvert_exporter": "python",
   "pygments_lexer": "ipython3",
   "version": "3.9.12"
  }
 },
 "nbformat": 4,
 "nbformat_minor": 5
}
