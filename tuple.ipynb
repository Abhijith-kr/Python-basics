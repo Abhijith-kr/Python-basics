{
 "cells": [
  {
   "cell_type": "code",
   "execution_count": 2,
   "id": "c3e28232",
   "metadata": {},
   "outputs": [
    {
     "name": "stdout",
     "output_type": "stream",
     "text": [
      "1\n"
     ]
    }
   ],
   "source": [
    "A=(1)\n",
    "print (A)"
   ]
  },
  {
   "cell_type": "code",
   "execution_count": 3,
   "id": "a5d9d27b",
   "metadata": {},
   "outputs": [
    {
     "name": "stdout",
     "output_type": "stream",
     "text": [
      "()\n"
     ]
    }
   ],
   "source": [
    "A=()\n",
    "print (A)"
   ]
  },
  {
   "cell_type": "code",
   "execution_count": 4,
   "id": "7c24665f",
   "metadata": {},
   "outputs": [
    {
     "name": "stdout",
     "output_type": "stream",
     "text": [
      "(2,)\n"
     ]
    }
   ],
   "source": [
    "B=(2,)\n",
    "print (B)"
   ]
  },
  {
   "cell_type": "code",
   "execution_count": 10,
   "id": "ef7fa8ed",
   "metadata": {},
   "outputs": [
    {
     "name": "stdout",
     "output_type": "stream",
     "text": [
      "('A', 'N')\n"
     ]
    }
   ],
   "source": []
  },
  {
   "cell_type": "code",
   "execution_count": 11,
   "id": "35147d0e",
   "metadata": {},
   "outputs": [
    {
     "name": "stdout",
     "output_type": "stream",
     "text": [
      "('A', 'N')\n"
     ]
    }
   ],
   "source": [
    "C=tuple(\"AN\")\n",
    "print (C)\n"
   ]
  },
  {
   "cell_type": "code",
   "execution_count": 13,
   "id": "0a598841",
   "metadata": {},
   "outputs": [
    {
     "ename": "SyntaxError",
     "evalue": "Missing parentheses in call to 'print'. Did you mean print(E)? (2971957289.py, line 3)",
     "output_type": "error",
     "traceback": [
      "\u001b[1;36m  Input \u001b[1;32mIn [13]\u001b[1;36m\u001b[0m\n\u001b[1;33m    print E\u001b[0m\n\u001b[1;37m          ^\u001b[0m\n\u001b[1;31mSyntaxError\u001b[0m\u001b[1;31m:\u001b[0m Missing parentheses in call to 'print'. Did you mean print(E)?\n"
     ]
    }
   ],
   "source": [
    "D=[1,2,3,4]\n",
    "E=tuple(D)\n",
    "print E"
   ]
  },
  {
   "cell_type": "code",
   "execution_count": 14,
   "id": "f61656da",
   "metadata": {},
   "outputs": [
    {
     "name": "stdout",
     "output_type": "stream",
     "text": [
      "(1, 2, 3, 4)\n"
     ]
    }
   ],
   "source": [
    "D=[1,2,3,4]\n",
    "E=tuple(D)\n",
    "print (E)"
   ]
  },
  {
   "cell_type": "code",
   "execution_count": 15,
   "id": "a7f74342",
   "metadata": {},
   "outputs": [
    {
     "name": "stdout",
     "output_type": "stream",
     "text": [
      "(1, 'HI', 76)\n"
     ]
    }
   ],
   "source": [
    "H=(1,\"HI\",76)\n",
    "print (H)"
   ]
  },
  {
   "cell_type": "code",
   "execution_count": 16,
   "id": "28cfc17e",
   "metadata": {},
   "outputs": [
    {
     "name": "stdout",
     "output_type": "stream",
     "text": [
      "(1, 2)\n"
     ]
    }
   ],
   "source": [
    "A=(1,2,3,'AN','APPLE','KING')\n",
    "print(A[:2])"
   ]
  },
  {
   "cell_type": "code",
   "execution_count": 17,
   "id": "cf705e12",
   "metadata": {},
   "outputs": [
    {
     "name": "stdout",
     "output_type": "stream",
     "text": [
      "(1, 2, 3, 'AN')\n"
     ]
    }
   ],
   "source": [
    "A=(1,2,3,'AN','APPLE','KING')\n",
    "print(A[:4])"
   ]
  },
  {
   "cell_type": "code",
   "execution_count": 18,
   "id": "a3e37c4f",
   "metadata": {},
   "outputs": [
    {
     "name": "stdout",
     "output_type": "stream",
     "text": [
      "APPLE\n"
     ]
    }
   ],
   "source": [
    "A=(1,2,3,'AN','APPLE','KING')\n",
    "print(A[4])"
   ]
  },
  {
   "cell_type": "code",
   "execution_count": 19,
   "id": "367cc0e9",
   "metadata": {},
   "outputs": [
    {
     "name": "stdout",
     "output_type": "stream",
     "text": [
      "KING\n"
     ]
    }
   ],
   "source": [
    "A=(1,2,3,'AN','APPLE','KING')\n",
    "print(A[5])"
   ]
  },
  {
   "cell_type": "code",
   "execution_count": 20,
   "id": "12fb19b8",
   "metadata": {},
   "outputs": [
    {
     "name": "stdout",
     "output_type": "stream",
     "text": [
      "2\n"
     ]
    }
   ],
   "source": [
    "A=(1,2,3,'AN','APPLE','KING')\n",
    "print(A[1])"
   ]
  },
  {
   "cell_type": "code",
   "execution_count": 21,
   "id": "42781d30",
   "metadata": {},
   "outputs": [
    {
     "name": "stdout",
     "output_type": "stream",
     "text": [
      "1\n"
     ]
    }
   ],
   "source": [
    "A=(1,2,3,'AN','APPLE','KING')\n",
    "print(A[0])"
   ]
  },
  {
   "cell_type": "code",
   "execution_count": 22,
   "id": "055c46ca",
   "metadata": {},
   "outputs": [
    {
     "name": "stdout",
     "output_type": "stream",
     "text": [
      "(1, 2, 3, 'AN', 'APPLE', 'KING')\n"
     ]
    }
   ],
   "source": [
    "A=(1,2,3,'AN','APPLE','KING')\n",
    "print(A[0:])"
   ]
  },
  {
   "cell_type": "code",
   "execution_count": 23,
   "id": "ed93ba07",
   "metadata": {},
   "outputs": [
    {
     "name": "stdout",
     "output_type": "stream",
     "text": [
      "(3, 'AN', 'APPLE', 'KING')\n"
     ]
    }
   ],
   "source": [
    "A=(1,2,3,'AN','APPLE','KING')\n",
    "print(A[2:])"
   ]
  },
  {
   "cell_type": "code",
   "execution_count": 24,
   "id": "d9cc08b2",
   "metadata": {},
   "outputs": [
    {
     "name": "stdout",
     "output_type": "stream",
     "text": [
      "(3, 'AN')\n"
     ]
    }
   ],
   "source": [
    "A=(1,2,3,'AN','APPLE','KING')\n",
    "print(A[2:4])"
   ]
  },
  {
   "cell_type": "code",
   "execution_count": 25,
   "id": "afa25bd3",
   "metadata": {},
   "outputs": [
    {
     "name": "stdout",
     "output_type": "stream",
     "text": [
      "(1, 2, 3, 4, 'an', 'apple', 'king', 5)\n"
     ]
    }
   ],
   "source": [
    "A=(1,2,3,4,'an','apple','king')\n",
    "A = A + (5,)\n",
    "print(A)\n"
   ]
  },
  {
   "cell_type": "code",
   "execution_count": 26,
   "id": "5e5e6f5d",
   "metadata": {},
   "outputs": [
    {
     "ename": "TypeError",
     "evalue": "can only concatenate tuple (not \"int\") to tuple",
     "output_type": "error",
     "traceback": [
      "\u001b[1;31m---------------------------------------------------------------------------\u001b[0m",
      "\u001b[1;31mTypeError\u001b[0m                                 Traceback (most recent call last)",
      "Input \u001b[1;32mIn [26]\u001b[0m, in \u001b[0;36m<cell line: 2>\u001b[1;34m()\u001b[0m\n\u001b[0;32m      1\u001b[0m A\u001b[38;5;241m=\u001b[39m(\u001b[38;5;241m1\u001b[39m,\u001b[38;5;241m2\u001b[39m,\u001b[38;5;241m3\u001b[39m,\u001b[38;5;241m4\u001b[39m,\u001b[38;5;124m'\u001b[39m\u001b[38;5;124man\u001b[39m\u001b[38;5;124m'\u001b[39m,\u001b[38;5;124m'\u001b[39m\u001b[38;5;124mapple\u001b[39m\u001b[38;5;124m'\u001b[39m,\u001b[38;5;124m'\u001b[39m\u001b[38;5;124mking\u001b[39m\u001b[38;5;124m'\u001b[39m)\n\u001b[1;32m----> 2\u001b[0m A \u001b[38;5;241m=\u001b[39m \u001b[43mA\u001b[49m\u001b[43m \u001b[49m\u001b[38;5;241;43m+\u001b[39;49m\u001b[43m \u001b[49m\u001b[43m(\u001b[49m\u001b[38;5;241;43m5\u001b[39;49m\u001b[43m)\u001b[49m\n\u001b[0;32m      3\u001b[0m \u001b[38;5;28mprint\u001b[39m(A)\n",
      "\u001b[1;31mTypeError\u001b[0m: can only concatenate tuple (not \"int\") to tuple"
     ]
    }
   ],
   "source": []
  },
  {
   "cell_type": "code",
   "execution_count": 27,
   "id": "2f2a9281",
   "metadata": {},
   "outputs": [
    {
     "ename": "TypeError",
     "evalue": "can only concatenate tuple (not \"str\") to tuple",
     "output_type": "error",
     "traceback": [
      "\u001b[1;31m---------------------------------------------------------------------------\u001b[0m",
      "\u001b[1;31mTypeError\u001b[0m                                 Traceback (most recent call last)",
      "Input \u001b[1;32mIn [27]\u001b[0m, in \u001b[0;36m<cell line: 2>\u001b[1;34m()\u001b[0m\n\u001b[0;32m      1\u001b[0m A\u001b[38;5;241m=\u001b[39m(\u001b[38;5;241m1\u001b[39m,\u001b[38;5;241m2\u001b[39m,\u001b[38;5;241m3\u001b[39m,\u001b[38;5;241m4\u001b[39m,\u001b[38;5;124m'\u001b[39m\u001b[38;5;124man\u001b[39m\u001b[38;5;124m'\u001b[39m,\u001b[38;5;124m'\u001b[39m\u001b[38;5;124mapple\u001b[39m\u001b[38;5;124m'\u001b[39m,\u001b[38;5;124m'\u001b[39m\u001b[38;5;124mking\u001b[39m\u001b[38;5;124m'\u001b[39m)\n\u001b[1;32m----> 2\u001b[0m A \u001b[38;5;241m=\u001b[39m \u001b[43mA\u001b[49m\u001b[43m \u001b[49m\u001b[38;5;241;43m+\u001b[39;49m\u001b[43m \u001b[49m\u001b[43m(\u001b[49m\u001b[38;5;124;43m\"\u001b[39;49m\u001b[38;5;124;43mQUEEN\u001b[39;49m\u001b[38;5;124;43m\"\u001b[39;49m\u001b[43m)\u001b[49m\n\u001b[0;32m      3\u001b[0m \u001b[38;5;28mprint\u001b[39m(A)\n",
      "\u001b[1;31mTypeError\u001b[0m: can only concatenate tuple (not \"str\") to tuple"
     ]
    }
   ],
   "source": [
    "A=(1,2,3,4,'an','apple','king')\n",
    "A = A + (\"QUEEN\")\n",
    "print(A)\n"
   ]
  },
  {
   "cell_type": "code",
   "execution_count": 28,
   "id": "69c7637c",
   "metadata": {},
   "outputs": [
    {
     "ename": "TypeError",
     "evalue": "can only concatenate tuple (not \"str\") to tuple",
     "output_type": "error",
     "traceback": [
      "\u001b[1;31m---------------------------------------------------------------------------\u001b[0m",
      "\u001b[1;31mTypeError\u001b[0m                                 Traceback (most recent call last)",
      "Input \u001b[1;32mIn [28]\u001b[0m, in \u001b[0;36m<cell line: 2>\u001b[1;34m()\u001b[0m\n\u001b[0;32m      1\u001b[0m A\u001b[38;5;241m=\u001b[39m(\u001b[38;5;241m1\u001b[39m,\u001b[38;5;241m2\u001b[39m,\u001b[38;5;241m3\u001b[39m,\u001b[38;5;241m4\u001b[39m,\u001b[38;5;124m'\u001b[39m\u001b[38;5;124man\u001b[39m\u001b[38;5;124m'\u001b[39m,\u001b[38;5;124m'\u001b[39m\u001b[38;5;124mapple\u001b[39m\u001b[38;5;124m'\u001b[39m,\u001b[38;5;124m'\u001b[39m\u001b[38;5;124mking\u001b[39m\u001b[38;5;124m'\u001b[39m)\n\u001b[1;32m----> 2\u001b[0m A \u001b[38;5;241m=\u001b[39m \u001b[43mA\u001b[49m\u001b[43m \u001b[49m\u001b[38;5;241;43m+\u001b[39;49m\u001b[43m \u001b[49m\u001b[43m(\u001b[49m\u001b[38;5;124;43m'\u001b[39;49m\u001b[38;5;124;43mQUEEN\u001b[39;49m\u001b[38;5;124;43m'\u001b[39;49m\u001b[43m)\u001b[49m\n\u001b[0;32m      3\u001b[0m \u001b[38;5;28mprint\u001b[39m(A)\n",
      "\u001b[1;31mTypeError\u001b[0m: can only concatenate tuple (not \"str\") to tuple"
     ]
    }
   ],
   "source": [
    "A=(1,2,3,4,'an','apple','king')\n",
    "A = A + ('QUEEN')\n",
    "print(A)"
   ]
  },
  {
   "cell_type": "code",
   "execution_count": 29,
   "id": "2ae5cdbe",
   "metadata": {},
   "outputs": [
    {
     "ename": "NameError",
     "evalue": "name 'QUEEN' is not defined",
     "output_type": "error",
     "traceback": [
      "\u001b[1;31m---------------------------------------------------------------------------\u001b[0m",
      "\u001b[1;31mNameError\u001b[0m                                 Traceback (most recent call last)",
      "Input \u001b[1;32mIn [29]\u001b[0m, in \u001b[0;36m<cell line: 2>\u001b[1;34m()\u001b[0m\n\u001b[0;32m      1\u001b[0m A\u001b[38;5;241m=\u001b[39m(\u001b[38;5;241m1\u001b[39m,\u001b[38;5;241m2\u001b[39m,\u001b[38;5;241m3\u001b[39m,\u001b[38;5;241m4\u001b[39m,\u001b[38;5;124m'\u001b[39m\u001b[38;5;124man\u001b[39m\u001b[38;5;124m'\u001b[39m,\u001b[38;5;124m'\u001b[39m\u001b[38;5;124mapple\u001b[39m\u001b[38;5;124m'\u001b[39m,\u001b[38;5;124m'\u001b[39m\u001b[38;5;124mking\u001b[39m\u001b[38;5;124m'\u001b[39m)\n\u001b[1;32m----> 2\u001b[0m A \u001b[38;5;241m=\u001b[39m A \u001b[38;5;241m+\u001b[39m (\u001b[43mQUEEN\u001b[49m)\n\u001b[0;32m      3\u001b[0m \u001b[38;5;28mprint\u001b[39m(A)\n",
      "\u001b[1;31mNameError\u001b[0m: name 'QUEEN' is not defined"
     ]
    }
   ],
   "source": [
    "A=(1,2,3,4,'an','apple','king')\n",
    "A = A + (QUEEN)\n",
    "print(A)"
   ]
  },
  {
   "cell_type": "code",
   "execution_count": 30,
   "id": "4edafdd1",
   "metadata": {},
   "outputs": [
    {
     "name": "stdout",
     "output_type": "stream",
     "text": [
      "(1, 2, 3, 4, 'an', 'apple', 'king', 'QUEEN')\n"
     ]
    }
   ],
   "source": [
    "A=(1,2,3,4,'an','apple','king')\n",
    "A = A + ('QUEEN',)\n",
    "print(A)\n"
   ]
  },
  {
   "cell_type": "code",
   "execution_count": 31,
   "id": "b03eb921",
   "metadata": {},
   "outputs": [
    {
     "name": "stdout",
     "output_type": "stream",
     "text": [
      "(1, 2, 3, 'an', 'apple', 'king', 4, 5, 6, 'queen')\n"
     ]
    }
   ],
   "source": [
    "A=(1,2,3,'an','apple','king')\n",
    "B=(4,5,6,'queen')\n",
    "C=A+B\n",
    "print(C)"
   ]
  },
  {
   "cell_type": "code",
   "execution_count": 32,
   "id": "db3a25cb",
   "metadata": {},
   "outputs": [
    {
     "ename": "TypeError",
     "evalue": "'tuple' object does not support item assignment",
     "output_type": "error",
     "traceback": [
      "\u001b[1;31m---------------------------------------------------------------------------\u001b[0m",
      "\u001b[1;31mTypeError\u001b[0m                                 Traceback (most recent call last)",
      "Input \u001b[1;32mIn [32]\u001b[0m, in \u001b[0;36m<cell line: 2>\u001b[1;34m()\u001b[0m\n\u001b[0;32m      1\u001b[0m A\u001b[38;5;241m=\u001b[39m(\u001b[38;5;241m1\u001b[39m,\u001b[38;5;241m2\u001b[39m,\u001b[38;5;241m3\u001b[39m,\u001b[38;5;241m4\u001b[39m,\u001b[38;5;124m'\u001b[39m\u001b[38;5;124man\u001b[39m\u001b[38;5;124m'\u001b[39m,\u001b[38;5;124m'\u001b[39m\u001b[38;5;124mapple\u001b[39m\u001b[38;5;124m'\u001b[39m,\u001b[38;5;124m'\u001b[39m\u001b[38;5;124mking\u001b[39m\u001b[38;5;124m'\u001b[39m)\n\u001b[1;32m----> 2\u001b[0m A[\u001b[38;5;241m2\u001b[39m]\u001b[38;5;241m=\u001b[39m\u001b[38;5;241m5\u001b[39m\n\u001b[0;32m      3\u001b[0m \u001b[38;5;28mprint\u001b[39m(A)\n",
      "\u001b[1;31mTypeError\u001b[0m: 'tuple' object does not support item assignment"
     ]
    }
   ],
   "source": [
    "A=(1,2,3,4,'an','apple','king')\n",
    "A[2]=5\n",
    "print(A)"
   ]
  },
  {
   "cell_type": "code",
   "execution_count": 33,
   "id": "72152026",
   "metadata": {},
   "outputs": [
    {
     "name": "stdout",
     "output_type": "stream",
     "text": [
      "1\n",
      "2\n",
      "3\n",
      "4\n",
      "an\n",
      "apple\n",
      "king\n"
     ]
    }
   ],
   "source": [
    "A=(1,2,3,4,'an','apple','king')\n",
    "for I in A:\n",
    "    print (I)"
   ]
  },
  {
   "cell_type": "code",
   "execution_count": 35,
   "id": "3b8d5efc",
   "metadata": {},
   "outputs": [
    {
     "name": "stdout",
     "output_type": "stream",
     "text": [
      "(50, 60, 70, 80)\n"
     ]
    }
   ],
   "source": [
    "A=(10,20,30,40,50,60,70,80,90,100,110,120)\n",
    "print(A[4:-4])"
   ]
  },
  {
   "cell_type": "code",
   "execution_count": 36,
   "id": "c9968a47",
   "metadata": {},
   "outputs": [
    {
     "name": "stdout",
     "output_type": "stream",
     "text": [
      "(50, 60, 70, 80, 90, 100)\n"
     ]
    }
   ],
   "source": [
    "A=(10,20,30,40,50,60,70,80,90,100,110,120)\n",
    "print(A[4:-2])"
   ]
  },
  {
   "cell_type": "code",
   "execution_count": 37,
   "id": "aab49455",
   "metadata": {},
   "outputs": [
    {
     "name": "stdout",
     "output_type": "stream",
     "text": [
      "(20, 30, 40, 50, 60)\n"
     ]
    }
   ],
   "source": [
    "A=(10,20,30,40,50,60,70,80,90,100,110,120)\n",
    "print(A[1:6])"
   ]
  },
  {
   "cell_type": "code",
   "execution_count": 38,
   "id": "3fd3b7f9",
   "metadata": {},
   "outputs": [
    {
     "name": "stdout",
     "output_type": "stream",
     "text": [
      "(10, 20, 30, 40)\n"
     ]
    }
   ],
   "source": [
    "A=(10,20,30,40,50,60,70,80,90,100,110,120)\n",
    "print(A[0:4])"
   ]
  },
  {
   "cell_type": "code",
   "execution_count": 39,
   "id": "5c5c52f8",
   "metadata": {},
   "outputs": [
    {
     "name": "stdout",
     "output_type": "stream",
     "text": [
      "(120, 110, 100, 90, 80, 70, 60, 50, 40, 30, 20, 10)\n"
     ]
    }
   ],
   "source": [
    "A=(10,20,30,40,50,60,70,80,90,100,110,120)\n",
    "print(A[::-1])"
   ]
  },
  {
   "cell_type": "code",
   "execution_count": 40,
   "id": "64ba085a",
   "metadata": {},
   "outputs": [
    {
     "name": "stdout",
     "output_type": "stream",
     "text": [
      "(120, 100, 80, 60, 40, 20)\n"
     ]
    }
   ],
   "source": [
    "A=(10,20,30,40,50,60,70,80,90,100,110,120)\n",
    "print(A[::-2])"
   ]
  },
  {
   "cell_type": "code",
   "execution_count": 41,
   "id": "5915c995",
   "metadata": {},
   "outputs": [
    {
     "name": "stdout",
     "output_type": "stream",
     "text": [
      "(120, 90, 60, 30)\n"
     ]
    }
   ],
   "source": [
    "A=(10,20,30,40,50,60,70,80,90,100,110,120)\n",
    "print(A[::-3])"
   ]
  },
  {
   "cell_type": "code",
   "execution_count": 42,
   "id": "22fdbc39",
   "metadata": {},
   "outputs": [
    {
     "name": "stdout",
     "output_type": "stream",
     "text": [
      "(120, 80, 40)\n"
     ]
    }
   ],
   "source": [
    "A=(10,20,30,40,50,60,70,80,90,100,110,120)\n",
    "print(A[::-4])"
   ]
  },
  {
   "cell_type": "code",
   "execution_count": 43,
   "id": "fd383d80",
   "metadata": {},
   "outputs": [
    {
     "name": "stdout",
     "output_type": "stream",
     "text": [
      "(30, 50, 70, 90)\n"
     ]
    }
   ],
   "source": [
    "A=(10,20,30,40,50,60,70,80,90,100,110,120)\n",
    "print(A[2:10:2])"
   ]
  },
  {
   "cell_type": "code",
   "execution_count": 44,
   "id": "ae6bd5d2",
   "metadata": {},
   "outputs": [
    {
     "name": "stdout",
     "output_type": "stream",
     "text": [
      "(30, 40, 50, 60, 70, 80, 90, 100)\n"
     ]
    }
   ],
   "source": [
    "A=(10,20,30,40,50,60,70,80,90,100,110,120)\n",
    "print(A[2:10:1])"
   ]
  },
  {
   "cell_type": "code",
   "execution_count": 45,
   "id": "dcd10dd8",
   "metadata": {},
   "outputs": [
    {
     "name": "stdout",
     "output_type": "stream",
     "text": [
      "(30, 60, 90)\n"
     ]
    }
   ],
   "source": [
    "A=(10,20,30,40,50,60,70,80,90,100,110,120)\n",
    "print(A[2:10:3])"
   ]
  },
  {
   "cell_type": "code",
   "execution_count": 46,
   "id": "c915261e",
   "metadata": {},
   "outputs": [
    {
     "name": "stdout",
     "output_type": "stream",
     "text": [
      "()\n"
     ]
    }
   ],
   "source": [
    "A=(10,20,30,40,50,60,70,80,90,100,110,120)\n",
    "print(A[10:3])"
   ]
  },
  {
   "cell_type": "code",
   "execution_count": 49,
   "id": "bd77510d",
   "metadata": {},
   "outputs": [
    {
     "name": "stdout",
     "output_type": "stream",
     "text": [
      "()\n"
     ]
    }
   ],
   "source": [
    "A=(10,20,30,40,50,60,70,80,90,100,110,120)\n",
    "print(A[10:1])"
   ]
  },
  {
   "cell_type": "code",
   "execution_count": 50,
   "id": "2569a82c",
   "metadata": {},
   "outputs": [
    {
     "name": "stdout",
     "output_type": "stream",
     "text": [
      "()\n"
     ]
    }
   ],
   "source": [
    "A=(10,20,30,40,50,60,70,80,90,100,110,120)\n",
    "print(A[10:1])"
   ]
  },
  {
   "cell_type": "code",
   "execution_count": 51,
   "id": "2211def9",
   "metadata": {},
   "outputs": [
    {
     "name": "stdout",
     "output_type": "stream",
     "text": [
      "()\n"
     ]
    }
   ],
   "source": [
    "A=(10,20,30,40,50,60,70,80,90,100,110,120)\n",
    "print(A[-10:2])"
   ]
  },
  {
   "cell_type": "code",
   "execution_count": 55,
   "id": "048a6d8c",
   "metadata": {},
   "outputs": [
    {
     "ename": "SyntaxError",
     "evalue": "invalid syntax (4199662815.py, line 2)",
     "output_type": "error",
     "traceback": [
      "\u001b[1;36m  Input \u001b[1;32mIn [55]\u001b[1;36m\u001b[0m\n\u001b[1;33m    print len(A)\u001b[0m\n\u001b[1;37m          ^\u001b[0m\n\u001b[1;31mSyntaxError\u001b[0m\u001b[1;31m:\u001b[0m invalid syntax\n"
     ]
    }
   ],
   "source": [
    "A=(10,20,30,40,50,60,70,80,90,100,110,120)\n",
    "print len(A)"
   ]
  },
  {
   "cell_type": "code",
   "execution_count": 54,
   "id": "74164374",
   "metadata": {},
   "outputs": [
    {
     "name": "stdout",
     "output_type": "stream",
     "text": [
      "12\n"
     ]
    }
   ],
   "source": [
    "A=(10,20,30,40,50,60,70,80,90,100,110,120)\n",
    "print(len(A))"
   ]
  },
  {
   "cell_type": "code",
   "execution_count": 56,
   "id": "315db205",
   "metadata": {},
   "outputs": [
    {
     "name": "stdout",
     "output_type": "stream",
     "text": [
      "120\n"
     ]
    }
   ],
   "source": [
    "A=(10,20,30,40,50,60,70,80,90,100,110,120)\n",
    "print(max(A))"
   ]
  },
  {
   "cell_type": "code",
   "execution_count": 57,
   "id": "722220f8",
   "metadata": {},
   "outputs": [
    {
     "name": "stdout",
     "output_type": "stream",
     "text": [
      "10\n"
     ]
    }
   ],
   "source": [
    "A=(10,20,30,40,50,60,70,80,90,100,110,120)\n",
    "print(min(A))"
   ]
  },
  {
   "cell_type": "code",
   "execution_count": 58,
   "id": "0f3e0c62",
   "metadata": {},
   "outputs": [
    {
     "name": "stdout",
     "output_type": "stream",
     "text": [
      "(10, 20, 30, 40, 50, 60, 70, 80, 90, 100, 110, 120)\n"
     ]
    }
   ],
   "source": [
    "A=(10,20,30,40,50,60,70,80,90,100,110,120)\n",
    "print((A))"
   ]
  },
  {
   "cell_type": "code",
   "execution_count": 60,
   "id": "2c2a0124",
   "metadata": {},
   "outputs": [
    {
     "name": "stdout",
     "output_type": "stream",
     "text": [
      "3\n"
     ]
    }
   ],
   "source": [
    "A=(10,20,30,40,10,10,50,60,70,80,90,100,110,120)\n",
    "print(A.count(10))"
   ]
  },
  {
   "cell_type": "code",
   "execution_count": 61,
   "id": "65030b3f",
   "metadata": {},
   "outputs": [
    {
     "name": "stdout",
     "output_type": "stream",
     "text": [
      "(10, 40, 30)\n"
     ]
    }
   ],
   "source": [
    "A=(10,20,30)\n",
    "B,C,D=A\n",
    "C=40\n",
    "A=(B,C,D)\n",
    "print(A)"
   ]
  },
  {
   "cell_type": "code",
   "execution_count": 62,
   "id": "5ca8f7c6",
   "metadata": {},
   "outputs": [
    {
     "name": "stdout",
     "output_type": "stream",
     "text": [
      "('APPLE', 'ORANGE', 'BANANA')\n"
     ]
    }
   ],
   "source": [
    "A=(\"APPLE\",\"ORANGE\",\"GRAPES\")\n",
    "B=list(A)\n",
    "B[2]=\"BANANA\"\n",
    "A=tuple(B)\n",
    "print (A)"
   ]
  },
  {
   "cell_type": "code",
   "execution_count": 64,
   "id": "6e3870ee",
   "metadata": {},
   "outputs": [
    {
     "name": "stdout",
     "output_type": "stream",
     "text": [
      "(1, 2, 3, 'AB', 'HI', 'TH')\n"
     ]
    }
   ],
   "source": [
    "A=(1,2,3,'AB','HI','TH')\n",
    "print(A)"
   ]
  },
  {
   "cell_type": "code",
   "execution_count": null,
   "id": "f5de75d6",
   "metadata": {},
   "outputs": [],
   "source": []
  }
 ],
 "metadata": {
  "kernelspec": {
   "display_name": "Python 3 (ipykernel)",
   "language": "python",
   "name": "python3"
  },
  "language_info": {
   "codemirror_mode": {
    "name": "ipython",
    "version": 3
   },
   "file_extension": ".py",
   "mimetype": "text/x-python",
   "name": "python",
   "nbconvert_exporter": "python",
   "pygments_lexer": "ipython3",
   "version": "3.9.12"
  }
 },
 "nbformat": 4,
 "nbformat_minor": 5
}
